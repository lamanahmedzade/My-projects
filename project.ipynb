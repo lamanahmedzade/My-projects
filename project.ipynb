{
  "cells": [
    {
      "cell_type": "code",
      "execution_count": null,
      "metadata": {
        "colab": {
          "base_uri": "https://localhost:8080/"
        },
        "id": "Ti1PzW9w5GlM",
        "outputId": "5d0f1465-ebaf-4801-cf31-008db6411f72"
      },
      "outputs": [
        {
          "name": "stdout",
          "output_type": "stream",
          "text": [
            "Held\n"
          ]
        }
      ],
      "source": [
        "a=\"Hello World\"\n",
        "print(a[0:2]+ a[9:11])\n",
        "#1"
      ]
    },
    {
      "cell_type": "code",
      "execution_count": null,
      "metadata": {
        "colab": {
          "base_uri": "https://localhost:8080/"
        },
        "id": "pE6D9ObZ6SrL",
        "outputId": "541f6216-c87d-4b99-e5d6-524d2a60c5c8"
      },
      "outputs": [
        {
          "name": "stdout",
          "output_type": "stream",
          "text": [
            "Hello World\n"
          ]
        }
      ],
      "source": [
        "a=\"hello\"\n",
        "b=\"world\"\n",
        "print(a.capitalize()+\" \" +b.capitalize())\n",
        "#2"
      ]
    },
    {
      "cell_type": "code",
      "execution_count": null,
      "metadata": {
        "colab": {
          "base_uri": "https://localhost:8080/"
        },
        "id": "5WXO82wD9A53",
        "outputId": "00bbdfdc-16a3-40c6-f94b-b0c3ce6ee878"
      },
      "outputs": [
        {
          "name": "stdout",
          "output_type": "stream",
          "text": [
            "dbca\n",
            "52341\n"
          ]
        }
      ],
      "source": [
        "def change_sring(str1):\n",
        "      return str1[-1:] + str1[1:-1] + str1[:1]\n",
        "\t  \n",
        "print(change_sring('abcd'))\n",
        "print(change_sring('12345'))\n",
        "#4"
      ]
    },
    {
      "cell_type": "code",
      "execution_count": null,
      "metadata": {
        "colab": {
          "base_uri": "https://localhost:8080/"
        },
        "id": "kHNNjqV48L33",
        "outputId": "2bebf767-f41a-49d4-abc0-bfb97ef1f6e4"
      },
      "outputs": [
        {
          "name": "stdout",
          "output_type": "stream",
          "text": [
            "mamamamama\n"
          ]
        }
      ],
      "source": [
        "a=\"alma\"\n",
        "b=a[2:5]\n",
        "print(5*b)\n",
        "#5"
      ]
    },
    {
      "cell_type": "code",
      "execution_count": null,
      "metadata": {
        "colab": {
          "base_uri": "https://localhost:8080/"
        },
        "id": "tXdWQNhJ-ke9",
        "outputId": "218185a3-7dcf-469e-d4ac-71f998ab010b"
      },
      "outputs": [
        {
          "name": "stdout",
          "output_type": "stream",
          "text": [
            "ab\n",
            "abcing\n",
            "stringly\n"
          ]
        }
      ],
      "source": [
        "def string(str1):\n",
        "  length = len(str1)\n",
        "\n",
        "  if length > 2:\n",
        "    if str1[-3:] == 'ing':\n",
        "      str1 += 'ly'\n",
        "    else:\n",
        "      str1 += 'ing'\n",
        "\n",
        "  return str1\n",
        "print(string('ab'))\n",
        "print(string('abc'))\n",
        "print(string('string'))\n",
        "#3"
      ]
    },
    {
      "cell_type": "code",
      "execution_count": null,
      "metadata": {
        "colab": {
          "base_uri": "https://localhost:8080/"
        },
        "id": "LSOWih2eDWqA",
        "outputId": "f97bb6af-c7ba-4301-bda4-bbd3860513fc"
      },
      "outputs": [
        {
          "name": "stdout",
          "output_type": "stream",
          "text": [
            "Enter the first string: hello\n",
            "Enter the second string: world\n",
            "Result: wollo herld\n"
          ]
        }
      ],
      "source": [
        "# Get two strings as input\n",
        "string1 = input(\"Enter the first string: \")\n",
        "string2 = input(\"Enter the second string: \")\n",
        "\n",
        "# Swap the first two characters of each string\n",
        "new1 = string2[:2] + string1[2:]\n",
        "new2 = string1[:2] + string2[2:]\n",
        "\n",
        "# Concatenate the two strings with a space in between\n",
        "result = new1 + \" \" + new2\n",
        "\n",
        "# Print the final result\n",
        "print(\"Result:\", result)"
      ]
    },
    {
      "cell_type": "code",
      "execution_count": null,
      "metadata": {
        "colab": {
          "base_uri": "https://localhost:8080/"
        },
        "id": "U2RpAncDCePN",
        "outputId": "a25b6dba-fc3e-4abd-afdc-af3d683b96dd"
      },
      "outputs": [
        {
          "name": "stdout",
          "output_type": "stream",
          "text": [
            "216\n"
          ]
        }
      ],
      "source": [
        "my_list=[22,34,76,84]\n",
        "a=sum(my_list)\n",
        "print (a)\n",
        "#gives sum "
      ]
    },
    {
      "cell_type": "code",
      "execution_count": null,
      "metadata": {
        "colab": {
          "base_uri": "https://localhost:8080/"
        },
        "id": "bWpz3qATC1fk",
        "outputId": "5555123b-66df-4701-f3da-b562aadadbb9"
      },
      "outputs": [
        {
          "name": "stdout",
          "output_type": "stream",
          "text": [
            "4\n"
          ]
        }
      ],
      "source": [
        "my_list=[22,34,76,84]\n",
        "a=len(my_list)\n",
        "print(a)\n",
        "#prints length"
      ]
    },
    {
      "cell_type": "code",
      "execution_count": null,
      "metadata": {
        "colab": {
          "base_uri": "https://localhost:8080/"
        },
        "id": "ZH6FUGG2DCxi",
        "outputId": "413f5946-c3a0-456c-fbfd-0cb4fa0d1bce"
      },
      "outputs": [
        {
          "name": "stdout",
          "output_type": "stream",
          "text": [
            "[22, 34, 76, 84, 22, 34, 76, 84, 'book']\n",
            "22\n",
            "book\n"
          ]
        }
      ],
      "source": [
        "my_list=[22,34,76,84]\n",
        "my_list1=[22,34,76,84,\"book\"]\n",
        "list2=['zoo', 'book' , 'table']\n",
        "a=my_list + my_list1\n",
        "b=min(my_list)\n",
        "c=min(list2)\n",
        "print(a)\n",
        "print(b)\n",
        "print(c)"
      ]
    },
    {
      "cell_type": "code",
      "execution_count": null,
      "metadata": {
        "colab": {
          "base_uri": "https://localhost:8080/"
        },
        "id": "w6WN11dKD5Mm",
        "outputId": "9b05f2db-f101-44ea-ab8a-c1a4eaa911de"
      },
      "outputs": [
        {
          "name": "stdout",
          "output_type": "stream",
          "text": [
            "[22, 34, 84]\n"
          ]
        }
      ],
      "source": [
        "list1=[22,34,76,84]\n",
        "del list1[2]\n",
        "print(list1)"
      ]
    },
    {
      "cell_type": "code",
      "execution_count": null,
      "metadata": {
        "colab": {
          "base_uri": "https://localhost:8080/"
        },
        "id": "PbAiofL4EIz6",
        "outputId": "3ed2c30b-fbb3-4bed-db8b-32417086146e"
      },
      "outputs": [
        {
          "name": "stdout",
          "output_type": "stream",
          "text": [
            "['b', 'o', 'o', 'k']\n"
          ]
        }
      ],
      "source": [
        "a='book'\n",
        "b=list(a)\n",
        "print(b)"
      ]
    },
    {
      "cell_type": "code",
      "execution_count": null,
      "metadata": {
        "colab": {
          "base_uri": "https://localhost:8080/"
        },
        "id": "L5QGEiR6EQAO",
        "outputId": "2314aec4-bb77-470a-9216-0c28755404e2"
      },
      "outputs": [
        {
          "name": "stdout",
          "output_type": "stream",
          "text": [
            "['Azerb', 'ij', 'n']\n"
          ]
        }
      ],
      "source": [
        "a='Azerbaijan'\n",
        "b=a.split('a')\n",
        "print(b)"
      ]
    },
    {
      "cell_type": "code",
      "execution_count": null,
      "metadata": {
        "colab": {
          "base_uri": "https://localhost:8080/"
        },
        "id": "g-q40DD5EtM_",
        "outputId": "bc0b0b16-8da0-4342-c9e1-09405134a629"
      },
      "outputs": [
        {
          "name": "stdout",
          "output_type": "stream",
          "text": [
            "3\n"
          ]
        }
      ],
      "source": [
        "list1=[22,34,22,76,84,22,45,73,34]\n",
        "b=list1.count(22)\n",
        "print(b)"
      ]
    },
    {
      "cell_type": "code",
      "execution_count": null,
      "metadata": {
        "colab": {
          "base_uri": "https://localhost:8080/"
        },
        "id": "Yexw7ELKE6_j",
        "outputId": "1d3052e7-e2f0-4d27-a0ca-84f6f9082b9d"
      },
      "outputs": [
        {
          "name": "stdout",
          "output_type": "stream",
          "text": [
            "[22, 76, 84, 22, 45, 73, 34, 55]\n"
          ]
        }
      ],
      "source": [
        "list1=[22,76,84,22,45,73,34]\n",
        "list1.append(55)\n",
        "print(list1)"
      ]
    },
    {
      "cell_type": "code",
      "execution_count": null,
      "metadata": {
        "colab": {
          "base_uri": "https://localhost:8080/"
        },
        "id": "uKd9drIXFHJ0",
        "outputId": "bc601fdb-bf20-4b7e-88ca-163987b2cdca"
      },
      "outputs": [
        {
          "name": "stdout",
          "output_type": "stream",
          "text": [
            "[84, 22, 34, 22, 76, 34, 22]\n"
          ]
        }
      ],
      "source": [
        "list1=[22,34,76,22,34,22,84]\n",
        "list1.reverse()\n",
        "print(list1)"
      ]
    },
    {
      "cell_type": "code",
      "execution_count": null,
      "metadata": {
        "colab": {
          "base_uri": "https://localhost:8080/"
        },
        "id": "P60MeAmJGXtd",
        "outputId": "d9ff6ceb-4686-433d-f8ae-d9e703b5a438"
      },
      "outputs": [
        {
          "name": "stdout",
          "output_type": "stream",
          "text": [
            "2\n"
          ]
        }
      ],
      "source": [
        "list1=[22,34,76,22,34,22,84]\n",
        "a = list1.index(76)\n",
        "print(a)"
      ]
    },
    {
      "cell_type": "code",
      "execution_count": null,
      "metadata": {
        "colab": {
          "base_uri": "https://localhost:8080/"
        },
        "id": "2AMZ6x7hLqUd",
        "outputId": "6077300e-7290-44fe-d76d-7b4f488c16c1"
      },
      "outputs": [
        {
          "name": "stdout",
          "output_type": "stream",
          "text": [
            "The sum: 15\n"
          ]
        }
      ],
      "source": [
        "my_list = [1, 2, 3, 4, 5] \n",
        "total = 0\n",
        "for num in my_list:\n",
        "    total += num\n",
        "print(\"The sum:\", total)"
      ]
    },
    {
      "cell_type": "code",
      "execution_count": null,
      "metadata": {
        "id": "TO6lETjNNE3T"
      },
      "outputs": [],
      "source": [
        "#3 APRiL 2023"
      ]
    },
    {
      "cell_type": "code",
      "execution_count": null,
      "metadata": {
        "colab": {
          "base_uri": "https://localhost:8080/"
        },
        "id": "1ysr_i8qIo1E",
        "outputId": "86180b84-2c82-413b-e34c-fe3528e6bde5"
      },
      "outputs": [
        {
          "name": "stdout",
          "output_type": "stream",
          "text": [
            "[9, 3, 5]\n"
          ]
        }
      ],
      "source": [
        "#2\n",
        "list1 = [1, 3, 5, 7, 9]\n",
        "list2 = [1, 2, 4, 6, 7, 8]\n",
        "\n",
        "diff = set(list1) - set(list2)\n",
        "\n",
        "print(list(diff))"
      ]
    },
    {
      "cell_type": "code",
      "execution_count": null,
      "metadata": {
        "colab": {
          "base_uri": "https://localhost:8080/"
        },
        "id": "YIr65hXSKDDe",
        "outputId": "608770c5-befa-421e-d316-cb374edd88f6"
      },
      "outputs": [
        {
          "name": "stdout",
          "output_type": "stream",
          "text": [
            "[1, 2, 3, 0, 'red', 'green', 'black']\n"
          ]
        }
      ],
      "source": [
        "#3\n",
        "list1 = [1, 2, 3, 0]\n",
        "list2 = ['red', 'green', 'black']\n",
        "\n",
        "list1.extend(list2)\n",
        "\n",
        "print(list1)"
      ]
    },
    {
      "cell_type": "code",
      "execution_count": null,
      "metadata": {
        "colab": {
          "base_uri": "https://localhost:8080/"
        },
        "id": "cxaRUgfHKs2z",
        "outputId": "0610f358-2575-4b2c-eb0d-ade519249e03"
      },
      "outputs": [
        {
          "name": "stdout",
          "output_type": "stream",
          "text": [
            "5\n"
          ]
        }
      ],
      "source": [
        "#5\n",
        "list1=[1,2,3,4,5,6,7,8,9]\n",
        "a = list1.index(6)\n",
        "print(a)"
      ]
    },
    {
      "cell_type": "code",
      "execution_count": null,
      "metadata": {
        "colab": {
          "base_uri": "https://localhost:8080/"
        },
        "id": "lg7mprS0K9_p",
        "outputId": "9cfd7b1b-01a2-46ce-af07-841ace0e00ce"
      },
      "outputs": [
        {
          "name": "stdout",
          "output_type": "stream",
          "text": [
            "50\n"
          ]
        }
      ],
      "source": [
        "#6\n",
        "list = [10, 30, 20, 50, 40]\n",
        "\n",
        "largest = max(list)\n",
        "\n",
        "print(largest)"
      ]
    },
    {
      "cell_type": "code",
      "execution_count": null,
      "metadata": {
        "colab": {
          "base_uri": "https://localhost:8080/"
        },
        "id": "L-SOAL4ILUXa",
        "outputId": "21b1f844-b566-4294-8b26-92ddc3ef6bc5"
      },
      "outputs": [
        {
          "name": "stdout",
          "output_type": "stream",
          "text": [
            "['elderberry']\n"
          ]
        }
      ],
      "source": [
        "#7\n",
        "wordlist = ['apple', 'banana', 'cherry', 'mango' , 'durian', 'elderberry']\n",
        "n = 6\n",
        "\n",
        "long_words = [word for word in wordlist if len(word) > n]\n",
        "\n",
        "print(long_words)"
      ]
    },
    {
      "cell_type": "code",
      "execution_count": null,
      "metadata": {
        "colab": {
          "base_uri": "https://localhost:8080/"
        },
        "id": "-C2B-QmtNIeP",
        "outputId": "7b23cd24-f9ec-4a27-a3c9-65f672cb5f6f"
      },
      "outputs": [
        {
          "name": "stdout",
          "output_type": "stream",
          "text": [
            "The first 5: [1, 4, 9, 16, 25]\n",
            "The last 5: [676, 729, 784, 841, 900]\n"
          ]
        }
      ],
      "source": [
        "# 1\n",
        "square_list = [i*i for i in range(1, 6)] + [i*i for i in range(6,31)]\n",
        "\n",
        "first_5 = square_list[:5]\n",
        "last_5 = square_list[-5:]\n",
        "\n",
        "print(\"The first 5:\", first_5)\n",
        "print(\"The last 5:\", last_5)"
      ]
    },
    {
      "cell_type": "code",
      "execution_count": null,
      "metadata": {
        "colab": {
          "base_uri": "https://localhost:8080/"
        },
        "id": "C7pG8wGrKOUv",
        "outputId": "24f649a0-e3a3-4145-9861-ad02897752ed"
      },
      "outputs": [
        {
          "name": "stdout",
          "output_type": "stream",
          "text": [
            "The first 5: [36, 49, 64, 81, 100]\n",
            "The last 5: [676, 729, 784, 841, 900]\n"
          ]
        }
      ],
      "source": [
        "#4\n",
        "list = [i**2 for i in range(6, 31)]\n",
        "first_5 = list[:5]\n",
        "last_5 = list[-5:]\n",
        "\n",
        "print(\"The first 5:\", first_5)\n",
        "print(\"The last 5:\", last_5)"
      ]
    },
    {
      "cell_type": "code",
      "execution_count": null,
      "metadata": {
        "colab": {
          "base_uri": "https://localhost:8080/"
        },
        "id": "q_KnqY7HOGm2",
        "outputId": "7e125833-e496-4ec0-85c9-56e45377df36"
      },
      "outputs": [
        {
          "name": "stdout",
          "output_type": "stream",
          "text": [
            "have at least one common member.\n"
          ]
        }
      ],
      "source": [
        "#8\n",
        "def common_member(list1, list2):\n",
        "    for item in list1:\n",
        "        if item in list2:\n",
        "            return True\n",
        "    return False\n",
        "\n",
        "list1 = [1, 2, 3, 4, 5]\n",
        "list2 = [4, 6, 7, 8, 9]\n",
        "\n",
        "if common_member(list1, list2):\n",
        "    print(\"have at least one common member.\")\n",
        "else:\n",
        "    print(\"do not have any common members.\")"
      ]
    },
    {
      "cell_type": "code",
      "execution_count": null,
      "metadata": {
        "id": "IdaTRyg6UKe3"
      },
      "outputs": [],
      "source": [
        "#Hometask"
      ]
    },
    {
      "cell_type": "code",
      "execution_count": null,
      "metadata": {
        "colab": {
          "base_uri": "https://localhost:8080/"
        },
        "id": "HkUNw4ZOUM4n",
        "outputId": "70341ddb-5a8d-4ac7-810a-6bc16138a0bf"
      },
      "outputs": [
        {
          "name": "stdout",
          "output_type": "stream",
          "text": [
            "1\n",
            "3\n",
            "5\n",
            "\n"
          ]
        }
      ],
      "source": [
        "# 1  2  3\n",
        "# 4  5  6\n",
        "# 7  8  9\n",
        "\n",
        "#we need to print [1  2  3]\n",
        "a=[[1,2,3],\n",
        "   [4,5,6],\n",
        "   [7,8,9]]\n",
        "for i in range(2):\n",
        "  for j in range(3):\n",
        "    if i==j or i+j==2 :\n",
        "      print(a[i][j])\n",
        "print()"
      ]
    },
    {
      "cell_type": "code",
      "execution_count": null,
      "metadata": {
        "id": "IbZuoWE1Jvhf"
      },
      "outputs": [],
      "source": [
        "#10.04.2023\n"
      ]
    },
    {
      "cell_type": "code",
      "execution_count": null,
      "metadata": {
        "colab": {
          "base_uri": "https://localhost:8080/"
        },
        "id": "rnT1aQHtKYBJ",
        "outputId": "6810cb30-baef-47ce-9cec-a613a1f5d52f"
      },
      "outputs": [
        {
          "name": "stdout",
          "output_type": "stream",
          "text": [
            "Enter a string: salam\n",
            "Original String:  salam\n",
            "Swapped String:  malas\n"
          ]
        }
      ],
      "source": [
        "#1\n",
        "def swap(input_str):\n",
        "    if len(input_str) <= 1:\n",
        "        return input_str\n",
        "    else:\n",
        "        return input_str[-1] + input_str[1:-1] + input_str[0]\n",
        "\n",
        "input_str = input(\"Enter a string: \")\n",
        "swapped_str = swap(input_str)\n",
        "\n",
        "print(\"Original String: \", input_str)\n",
        "print(\"Swapped String: \", swapped_str)"
      ]
    },
    {
      "cell_type": "code",
      "execution_count": null,
      "metadata": {
        "colab": {
          "base_uri": "https://localhost:8080/"
        },
        "id": "h9LYPlTXK9UE",
        "outputId": "e5097ae6-038d-4f76-a1e3-157d5dd30263"
      },
      "outputs": [
        {
          "name": "stdout",
          "output_type": "stream",
          "text": [
            "integer: 5\n",
            "n + nn + nnn =  615\n"
          ]
        }
      ],
      "source": [
        "#2\n",
        "n = int(input(\"integer: \"))\n",
        "nn = n * 11\n",
        "nnn = n * 111\n",
        "\n",
        "cem = n + nn + nnn\n",
        "\n",
        "print(\"n + nn + nnn = \", cem)"
      ]
    },
    {
      "cell_type": "code",
      "execution_count": null,
      "metadata": {
        "colab": {
          "base_uri": "https://localhost:8080/"
        },
        "id": "ozpX9PffLZGy",
        "outputId": "47a17757-cd8f-4b97-cc72-b716dd3d0458"
      },
      "outputs": [
        {
          "name": "stdout",
          "output_type": "stream",
          "text": [
            "There are no two same numbers in a row.\n"
          ]
        }
      ],
      "source": [
        "#3\n",
        "def check_dup(lst):\n",
        "    for i in range(1, len(lst)):\n",
        "        if lst[i] == lst[i-1]:\n",
        "            return True\n",
        "    return False\n",
        "list = [1, 2, 3, 4, 5, 6]\n",
        "if check_dup(list):\n",
        "    print(\"two same numbers\")\n",
        "else:\n",
        "    print(\"no two same numbers\")"
      ]
    },
    {
      "cell_type": "code",
      "execution_count": null,
      "metadata": {
        "colab": {
          "base_uri": "https://localhost:8080/"
        },
        "id": "ut0iaqCKLfqz",
        "outputId": "446747cf-dbac-47c5-eb9f-3cd1b497d0e4"
      },
      "outputs": [
        {
          "name": "stdout",
          "output_type": "stream",
          "text": [
            "smaller than the sum of all other numbers.\n"
          ]
        }
      ],
      "source": [
        "#4\n",
        "def check_sum(lst):\n",
        "    ilk = lst[0]\n",
        "    son = lst[-1]\n",
        "    other= sum(lst[1:-1])\n",
        "    if ilk + son > other:\n",
        "        return \"greater than the sum of all other numbers.\"\n",
        "    elif ilk + son < other:\n",
        "        return \"smaller than the sum of all other numbers.\"\n",
        "    else:\n",
        "        return \"equal to the sum of all other numbers.\"\n",
        "\n",
        "my_list = [1, 2, 3, 4, 5]\n",
        "result = check_sum(my_list)\n",
        "print(result)"
      ]
    },
    {
      "cell_type": "code",
      "execution_count": null,
      "metadata": {
        "colab": {
          "base_uri": "https://localhost:8080/"
        },
        "id": "e7l66W0hMEuC",
        "outputId": "e7601409-4e55-4264-cb21-6cfba01719f9"
      },
      "outputs": [
        {
          "name": "stdout",
          "output_type": "stream",
          "text": [
            "['101', '202', '303', '404', '505']\n"
          ]
        }
      ],
      "source": [
        "#5\n",
        "def change(lst):\n",
        "    for i in range(len(lst)):\n",
        "        if isinstance(lst[i], int):\n",
        "            lst[i] = str(lst[i]) + '0' + str(lst[i])\n",
        "    return lst\n",
        "\n",
        "list = [1, 2, 3, 4, 5]\n",
        "list1 = change(list)\n",
        "print(list)"
      ]
    },
    {
      "cell_type": "code",
      "execution_count": null,
      "metadata": {
        "colab": {
          "base_uri": "https://localhost:8080/"
        },
        "id": "eGjW71yGMXIZ",
        "outputId": "fb16cd2e-8742-4c7b-fd99-5dc6e19268e5"
      },
      "outputs": [
        {
          "name": "stdout",
          "output_type": "stream",
          "text": [
            "Mean: 3.0\n",
            "Difference: -2.0\n"
          ]
        }
      ],
      "source": [
        "#6\n",
        "def mean_and_difference(lst):\n",
        "    mean = sum(lst) / len(lst)\n",
        "    diff = mean - max(lst)\n",
        "    return mean, diff\n",
        "\n",
        "list = [1, 2, 3, 4, 5]\n",
        "mean, diff = mean_and_difference(list)\n",
        "print(\"Mean:\", mean)\n",
        "print(\"Difference:\", diff)"
      ]
    },
    {
      "cell_type": "code",
      "execution_count": null,
      "metadata": {
        "colab": {
          "base_uri": "https://localhost:8080/"
        },
        "id": "ptP5GLGOIvdt",
        "outputId": "d2848a00-2e71-4f1e-e696-f0bd2150bdd8"
      },
      "outputs": [
        {
          "name": "stdout",
          "output_type": "stream",
          "text": [
            "5 1 8 "
          ]
        }
      ],
      "source": [
        "list= [ [5,4,3] ,\n",
        "        [2,1,6] ,\n",
        "        [9,7,8] \n",
        "      ]\n",
        "a=0\n",
        "while a<=2 :\n",
        "  b=0\n",
        "  while b<=2 :\n",
        "    if a==b :\n",
        "      print (list[a][b], end=\" \")\n",
        "    b+=1\n",
        "  a+=1"
      ]
    },
    {
      "cell_type": "code",
      "execution_count": null,
      "metadata": {
        "colab": {
          "base_uri": "https://localhost:8080/"
        },
        "id": "8HQC504_c7CC",
        "outputId": "39a96d5f-428b-446c-82ee-bcbf506a2b1e"
      },
      "outputs": [
        {
          "name": "stdout",
          "output_type": "stream",
          "text": [
            "5\n",
            "1\n",
            "8\n"
          ]
        }
      ],
      "source": [
        "list= [ [5,4,3] ,\n",
        "        [2,1,6] ,\n",
        "        [9,7,8] \n",
        "      ]\n",
        "for i in range (3) :\n",
        "  for j in range (3) :\n",
        "   if i==j :\n",
        "     print (list[i][j])"
      ]
    },
    {
      "cell_type": "code",
      "execution_count": null,
      "metadata": {
        "colab": {
          "base_uri": "https://localhost:8080/"
        },
        "id": "9MohW0IgdE7V",
        "outputId": "54ccf940-384c-4b88-9ffa-d31338092a51"
      },
      "outputs": [
        {
          "name": "stdout",
          "output_type": "stream",
          "text": [
            "3\n",
            "1\n",
            "9\n"
          ]
        }
      ],
      "source": [
        "list= [ [5,4,3] ,\n",
        "        [2,1,6] ,\n",
        "        [9,7,8] \n",
        "      ]\n",
        "j=2\n",
        "for i in range (3) :\n",
        "  print (list[i][j-i])"
      ]
    },
    {
      "cell_type": "code",
      "execution_count": null,
      "metadata": {
        "colab": {
          "base_uri": "https://localhost:8080/"
        },
        "id": "gQIwt13mdUHe",
        "outputId": "ff90bcba-9ac8-4f30-93f5-c056f57c7f12"
      },
      "outputs": [
        {
          "name": "stdout",
          "output_type": "stream",
          "text": [
            "6\n",
            "8\n",
            "3\n"
          ]
        }
      ],
      "source": [
        "list= [ [5,4,3] ,\n",
        "        [2,1,6] ,\n",
        "        [9,7,8] \n",
        "      ]\n",
        "i=2\n",
        "for j in range (3) :\n",
        "  print (list[j-i][i])"
      ]
    },
    {
      "cell_type": "code",
      "execution_count": null,
      "metadata": {
        "colab": {
          "base_uri": "https://localhost:8080/"
        },
        "id": "G-AET_nsdZX_",
        "outputId": "28fab99a-9894-463b-a2de-2e926bfa544c"
      },
      "outputs": [
        {
          "name": "stdout",
          "output_type": "stream",
          "text": [
            "8\n",
            "1\n",
            "5\n"
          ]
        }
      ],
      "source": [
        "list= [ [5,4,3] ,\n",
        "        [2,1,6] ,\n",
        "        [9,7,8] \n",
        "      ]\n",
        "for i in range (2,-1,-1) :\n",
        " for j in range (2,-1,-1) :\n",
        "  if i==j :\n",
        "    print (list[i][j])"
      ]
    },
    {
      "cell_type": "code",
      "execution_count": null,
      "metadata": {
        "id": "A7NBZCdgMioU"
      },
      "outputs": [],
      "source": []
    },
    {
      "cell_type": "code",
      "execution_count": null,
      "metadata": {
        "colab": {
          "base_uri": "https://localhost:8080/"
        },
        "id": "qjoNbzM9VSHH",
        "outputId": "dcf202d8-ec8c-47f6-94e7-1ede835b7e84"
      },
      "outputs": [
        {
          "name": "stdout",
          "output_type": "stream",
          "text": [
            "24\n"
          ]
        }
      ],
      "source": [
        "#1\n",
        "def factorial(n):\n",
        "  if n==0 :\n",
        "    return 1\n",
        "  else :\n",
        "    return n*factorial(n-1)\n",
        "print(factorial(4))"
      ]
    },
    {
      "cell_type": "code",
      "execution_count": null,
      "metadata": {
        "colab": {
          "base_uri": "https://localhost:8080/"
        },
        "id": "1QP8fA7NWSGH",
        "outputId": "81aba261-94a9-4238-8d3a-8ea1e14b809e"
      },
      "outputs": [
        {
          "name": "stdout",
          "output_type": "stream",
          "text": [
            "[1, 2, 3, 4, 5]\n"
          ]
        }
      ],
      "source": [
        "#2\n",
        "def uniquelist(lst):\n",
        "  return list(set(lst))\n",
        "sample=[1,2,3,3,3,3,4,5]\n",
        "uniquelist= uniquelist(sample)\n",
        "print(uniquelist)"
      ]
    },
    {
      "cell_type": "code",
      "execution_count": null,
      "metadata": {
        "colab": {
          "base_uri": "https://localhost:8080/"
        },
        "id": "aLcb-FAwY9KB",
        "outputId": "c55ecbe0-3a61-426a-82f8-f4e9b800ca82"
      },
      "outputs": [
        {
          "name": "stdout",
          "output_type": "stream",
          "text": [
            "[1, 2, 3, 4, 5]\n"
          ]
        }
      ],
      "source": [
        "#2 but with the method of append\n",
        "def uniquelist(lst):\n",
        "    uniquelst = []\n",
        "    for element in lst:\n",
        "        if element not in uniquelst:\n",
        "            uniquelst.append(element)\n",
        "    return uniquelst\n",
        "sample = [1, 2, 3, 3, 3, 4, 5]\n",
        "uniquelist = uniquelist(sample)\n",
        "print(uniquelist)"
      ]
    },
    {
      "cell_type": "code",
      "execution_count": null,
      "metadata": {
        "colab": {
          "base_uri": "https://localhost:8080/"
        },
        "id": "d8dDMTqbX4cD",
        "outputId": "8b0f4602-2055-4a89-d325-e3bcb515e145"
      },
      "outputs": [
        {
          "name": "stdout",
          "output_type": "stream",
          "text": [
            "prime\n"
          ]
        }
      ],
      "source": [
        "#3\n",
        "num=7\n",
        "for i in range (2,num):\n",
        "  if num % i == 0 :\n",
        "    print(\"not prime\")\n",
        "    break\n",
        "else :\n",
        "  print(\"prime\")"
      ]
    },
    {
      "cell_type": "code",
      "execution_count": null,
      "metadata": {
        "colab": {
          "base_uri": "https://localhost:8080/"
        },
        "id": "Nrj7U2U1Rkvu",
        "outputId": "2fe6250f-8165-40e3-9207-5b8022072077"
      },
      "outputs": [
        {
          "name": "stdout",
          "output_type": "stream",
          "text": [
            "None\n"
          ]
        }
      ],
      "source": [
        "def find_division(lst):\n",
        "  m=0\n",
        "  n=0\n",
        "  for x in range (len(lst)):\n",
        "    if x% 2 == 0 :\n",
        "      m=m+ lst[x]\n",
        "    else :\n",
        "      n= n + lst[x]\n",
        "      division = m/n\n",
        "lst = [1,2,3,4,5]\n",
        "print (find_division (lst))"
      ]
    }
  ],
  "metadata": {
    "colab": {
      "provenance": []
    },
    "kernelspec": {
      "display_name": "Python 3",
      "name": "python3"
    },
    "language_info": {
      "name": "python"
    }
  },
  "nbformat": 4,
  "nbformat_minor": 0
}
